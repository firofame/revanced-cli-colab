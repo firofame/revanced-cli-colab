{
  "nbformat": 4,
  "nbformat_minor": 0,
  "metadata": {
    "colab": {
      "provenance": []
    },
    "kernelspec": {
      "name": "python3",
      "display_name": "Python 3"
    },
    "language_info": {
      "name": "python"
    }
  },
  "cells": [
    {
      "cell_type": "code",
      "source": [
        "import requests\n",
        "\n",
        "def get_latest_release(repo):\n",
        "    try:\n",
        "        api_url = f\"https://api.github.com/repos/{repo}/releases/latest\"\n",
        "        response = requests.get(api_url)\n",
        "        release = response.json()\n",
        "        return release['tag_name']\n",
        "    except Exception as e:\n",
        "        print(f\"Error fetching latest version for {repo}: {e}\")\n",
        "        return None\n",
        "\n",
        "CLI_VERSION = get_latest_release(\"ReVanced/revanced-cli\")\n",
        "PATCHES_VERSION = get_latest_release(\"ReVanced/revanced-patches\")\n",
        "\n",
        "!wget \"https://github.com/ReVanced/revanced-cli/releases/download/{CLI_VERSION}/revanced-cli-{CLI_VERSION.lstrip('v')}-all.jar\" -O revanced-cli.jar\n",
        "!wget \"https://github.com/ReVanced/revanced-patches/releases/download/{PATCHES_VERSION}/patches-{PATCHES_VERSION.lstrip('v')}.rvp\" -O patches.rvp\n",
        "\n",
        "from IPython.display import clear_output\n",
        "clear_output()"
      ],
      "metadata": {
        "id": "Nv5qS2D4XXvs"
      },
      "execution_count": null,
      "outputs": []
    },
    {
      "cell_type": "code",
      "source": [
        "!java -jar revanced-cli.jar patch -p patches.rvp input.apk"
      ],
      "metadata": {
        "id": "YVT7hax3xCcY"
      },
      "execution_count": null,
      "outputs": []
    }
  ]
}